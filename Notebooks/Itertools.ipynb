{
 "cells": [
  {
   "cell_type": "code",
   "execution_count": 1,
   "metadata": {
    "collapsed": true
   },
   "outputs": [],
   "source": [
    "import itertools\n"
   ]
  },
  {
   "cell_type": "code",
   "execution_count": 8,
   "metadata": {
    "collapsed": false
   },
   "outputs": [
    {
     "name": "stdout",
     "output_type": "stream",
     "text": [
      "[(), (1,), (2,), (3,), (4,), (5,), (1, 2), (1, 3), (1, 4), (1, 5), (2, 3), (2, 4), (2, 5), (3, 4), (3, 5), (4, 5), (1, 2, 3), (1, 2, 4), (1, 2, 5), (1, 3, 4), (1, 3, 5), (1, 4, 5), (2, 3, 4), (2, 3, 5), (2, 4, 5), (3, 4, 5), (1, 2, 3, 4), (1, 2, 3, 5), (1, 2, 4, 5), (1, 3, 4, 5), (2, 3, 4, 5), (1, 2, 3, 4, 5)]\n"
     ]
    }
   ],
   "source": [
    "a = [1,2,3,4,5]\n",
    "b = list()\n",
    "\n",
    "for x in range (0, len(a) + 1):\n",
    "    for item1 in itertools.combinations(a, x):\n",
    "        b.append(item1)\n",
    "    \n",
    "print(b)"
   ]
  },
  {
   "cell_type": "code",
   "execution_count": 11,
   "metadata": {
    "collapsed": false
   },
   "outputs": [],
   "source": [
    "ori = []\n",
    "max_Stack = list()\n",
    "max1 = None\n",
    "\n",
    "def addEl(el):\n",
    "    global max1\n",
    "    ori.append(el)\n",
    "    if (len(max_Stack) == 0 or max_Stack[-1] <= el):\n",
    "        max_Stack.append(el)\n",
    "        max1 = max_Stack[-1]\n",
    "def removeEl():\n",
    "    global max1\n",
    "    el = ori.pop()\n",
    "    if (el == max_Stack[-1]):\n",
    "        max_Stack.pop()\n",
    "    max1 = max_Stack[-1]"
   ]
  },
  {
   "cell_type": "code",
   "execution_count": 12,
   "metadata": {
    "collapsed": false
   },
   "outputs": [],
   "source": [
    "addEl(1)\n",
    "addEl(3)\n",
    "addEl(2)\n",
    "addEl(5)\n",
    "addEl(10)\n",
    "addEl(7)\n"
   ]
  },
  {
   "cell_type": "code",
   "execution_count": 13,
   "metadata": {
    "collapsed": false
   },
   "outputs": [
    {
     "name": "stdout",
     "output_type": "stream",
     "text": [
      "[1, 3, 2, 5, 10]\n",
      "[1, 3, 5, 10]\n",
      "10\n"
     ]
    }
   ],
   "source": [
    "removeEl()\n",
    "print(ori)\n",
    "print(max_Stack)\n",
    "print(max1)"
   ]
  },
  {
   "cell_type": "code",
   "execution_count": 20,
   "metadata": {
    "collapsed": false
   },
   "outputs": [
    {
     "name": "stdout",
     "output_type": "stream",
     "text": [
      "[1, 2, 3]\n",
      "124\n",
      "[1, 2, 3, 5]\n"
     ]
    }
   ],
   "source": [
    "a = [1,2,3]\n",
    "b = 123\n",
    "\n",
    "def test():\n",
    "    global b\n",
    "    print(a)\n",
    "    b=b+1\n",
    "    print(b)\n",
    "    a.append(5)\n",
    "    print(a)\n",
    "test()"
   ]
  },
  {
   "cell_type": "code",
   "execution_count": null,
   "metadata": {
    "collapsed": true
   },
   "outputs": [],
   "source": [
    "6\n",
    "5\n",
    "4\n",
    "3\n",
    "2\n",
    "1\n"
   ]
  },
  {
   "cell_type": "code",
   "execution_count": 26,
   "metadata": {
    "collapsed": false
   },
   "outputs": [
    {
     "name": "stdout",
     "output_type": "stream",
     "text": [
      "[1, 2, 3, 4, 5]\n",
      "[1, 2, 3, 4, 5, 20]\n",
      "[2, 3, 4, 5, 20]\n"
     ]
    }
   ],
   "source": [
    "stack1 = list()\n",
    "stack2 = list()\n",
    "stack1 = [1,2,3,4,5]\n",
    "\n",
    "\n",
    "def enqueue (a):\n",
    "    stack1.append(a)\n",
    "\n",
    "def dequeue ():\n",
    "    \n",
    "    for i in range (0, len(stack1)):\n",
    "        stack2.append((stack1.pop()))\n",
    "    stack2.pop()\n",
    "    for i in range (0, len(stack2)):\n",
    "        stack1.append(stack2.pop())\n",
    "\n",
    "print(stack1)\n",
    "enqueue(20)\n",
    "print(stack1)\n",
    "dequeue()\n",
    "print(stack1)"
   ]
  },
  {
   "cell_type": "code",
   "execution_count": null,
   "metadata": {
    "collapsed": true
   },
   "outputs": [],
   "source": []
  }
 ],
 "metadata": {
  "kernelspec": {
   "display_name": "Python 3",
   "language": "python",
   "name": "python3"
  },
  "language_info": {
   "codemirror_mode": {
    "name": "ipython",
    "version": 3
   },
   "file_extension": ".py",
   "mimetype": "text/x-python",
   "name": "python",
   "nbconvert_exporter": "python",
   "pygments_lexer": "ipython3",
   "version": "3.4.3"
  }
 },
 "nbformat": 4,
 "nbformat_minor": 0
}
