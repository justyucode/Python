{
 "cells": [
  {
   "cell_type": "code",
   "execution_count": 9,
   "metadata": {
    "collapsed": false
   },
   "outputs": [],
   "source": [
    "class Error1(Exception):\n",
    "    def __init__(self):\n",
    "        print(\"Number is negative\")\n",
    "def printThis(a):\n",
    "    if(a<0):\n",
    "        raise Error1()\n",
    "    else: print(a)\n"
   ]
  },
  {
   "cell_type": "code",
   "execution_count": 14,
   "metadata": {
    "collapsed": false
   },
   "outputs": [
    {
     "name": "stdout",
     "output_type": "stream",
     "text": [
      "Number is negative\n",
      "Error with negative\n",
      "done\n"
     ]
    }
   ],
   "source": [
    "try: printThis(-3)\n",
    "except:\n",
    "    print(\"Error with negative\")\n",
    "finally:\n",
    "    print(\"done\")"
   ]
  },
  {
   "cell_type": "code",
   "execution_count": 117,
   "metadata": {
    "collapsed": true
   },
   "outputs": [],
   "source": [
    "class reverseIterableList:\n",
    "    def __init__(self, list1):\n",
    "        self.data = list1\n",
    "        self.counter = len(list1);\n",
    "    def __iter__(self):\n",
    "        self.counter = len(self.data)\n",
    "        return self\n",
    "    def __next__(self):\n",
    "        if(self.counter>0):\n",
    "            list2 = list(self.data)\n",
    "            self.counter -= 1\n",
    "            return (list2[self.counter])\n",
    "        else:\n",
    "            raise StopIteration()\n",
    "        \n",
    "    #def hasNext (self):\n",
    "      #  if(self.counter>= 0):\n",
    "        #     return True\n",
    "        #else:\n",
    "         #   return False\n",
    "    "
   ]
  },
  {
   "cell_type": "code",
   "execution_count": 118,
   "metadata": {
    "collapsed": false
   },
   "outputs": [],
   "source": [
    "\n",
    "b = reverseIterableList([1,2,3,4,5])\n",
    "a = iter(b)"
   ]
  },
  {
   "cell_type": "code",
   "execution_count": 119,
   "metadata": {
    "collapsed": false
   },
   "outputs": [
    {
     "name": "stdout",
     "output_type": "stream",
     "text": [
      "5\n",
      "4\n",
      "3\n",
      "2\n",
      "1\n"
     ]
    }
   ],
   "source": [
    "for i in a:\n",
    "    print(i)"
   ]
  },
  {
   "cell_type": "code",
   "execution_count": 90,
   "metadata": {
    "collapsed": false
   },
   "outputs": [
    {
     "name": "stdout",
     "output_type": "stream",
     "text": [
      "{'Math': 4}\n",
      "{'Sci': 4.5, 'Math': 4}\n",
      "Retuning the iterrator for this class\n",
      "Retuning the iterrator for this class\n"
     ]
    },
    {
     "data": {
      "text/plain": [
       "<__main__.Student at 0x106febeb8>"
      ]
     },
     "execution_count": 90,
     "metadata": {},
     "output_type": "execute_result"
    }
   ],
   "source": [
    "class Student:\n",
    "    def __init__(self,identi):\n",
    "        self.i = identi\n",
    "        self.scores ={}\n",
    "        self.count=0\n",
    "    def add_scores(self,subject,score):\n",
    "        self.scores[subject]=score\n",
    "        print (self.scores)\n",
    "    def __iter__(self):\n",
    "        print (\"Retuning the iterrator for this class\")\n",
    "        return self\n",
    "\n",
    "    def __next__(self):\n",
    "        subjects=list(self.scores.keys())\n",
    "        print (subjects)\n",
    "\n",
    "        if self.count<len(subjects):\n",
    "     \n",
    "            i=self.count\n",
    "            print (subjects[i])\n",
    "            self.count=self.count+1\n",
    "            print (self.count)\n",
    "            return self.scores[subjects[i]]\n",
    "        \n",
    "        else:\n",
    "            raise StopIteration()\n",
    "a=Student(\"Rogers\")\n",
    "a.add_scores(\"Math\",4)\n",
    "a.add_scores(\"Sci\",4.5)\n",
    "iter(a)\n",
    "iter ( a )"
   ]
  },
  {
   "cell_type": "code",
   "execution_count": 92,
   "metadata": {
    "collapsed": false
   },
   "outputs": [
    {
     "name": "stdout",
     "output_type": "stream",
     "text": [
      "Retuning the iterrator for this class\n",
      "['Sci', 'Math']\n",
      "Sci\n",
      "1\n",
      "4.5\n",
      "['Sci', 'Math']\n",
      "Math\n",
      "2\n",
      "4\n",
      "['Sci', 'Math']\n"
     ]
    }
   ],
   "source": [
    "for i in a:\n",
    "    print(i)"
   ]
  },
  {
   "cell_type": "code",
   "execution_count": 74,
   "metadata": {
    "collapsed": false
   },
   "outputs": [
    {
     "data": {
      "text/plain": [
       "<list_iterator at 0x107033400>"
      ]
     },
     "execution_count": 74,
     "metadata": {},
     "output_type": "execute_result"
    }
   ],
   "source": [
    "list1 = [1,2,3,4]\n",
    "iter(list1)"
   ]
  },
  {
   "cell_type": "code",
   "execution_count": 82,
   "metadata": {
    "collapsed": false
   },
   "outputs": [],
   "source": [
    "di = {1:4, 3:33}"
   ]
  },
  {
   "cell_type": "code",
   "execution_count": 87,
   "metadata": {
    "collapsed": false
   },
   "outputs": [
    {
     "data": {
      "text/plain": [
       "[1, 3]"
      ]
     },
     "execution_count": 87,
     "metadata": {},
     "output_type": "execute_result"
    }
   ],
   "source": [
    "list(di.keys())"
   ]
  },
  {
   "cell_type": "code",
   "execution_count": 1,
   "metadata": {
    "collapsed": false
   },
   "outputs": [
    {
     "ename": "NameError",
     "evalue": "name 'xrange' is not defined",
     "output_type": "error",
     "traceback": [
      "\u001b[0;31m---------------------------------------------------------------------------\u001b[0m",
      "\u001b[0;31mNameError\u001b[0m                                 Traceback (most recent call last)",
      "\u001b[0;32m<ipython-input-1-2bc53dfaa1c8>\u001b[0m in \u001b[0;36m<module>\u001b[0;34m()\u001b[0m\n\u001b[0;32m----> 1\u001b[0;31m \u001b[0;32mfor\u001b[0m \u001b[0mi\u001b[0m \u001b[0;32min\u001b[0m \u001b[0mxrange\u001b[0m \u001b[0;34m(\u001b[0m\u001b[0;36m0\u001b[0m\u001b[0;34m,\u001b[0m \u001b[0;36m999\u001b[0m\u001b[0;34m)\u001b[0m\u001b[0;34m:\u001b[0m\u001b[0;34m\u001b[0m\u001b[0m\n\u001b[0m\u001b[1;32m      2\u001b[0m     \u001b[0mprint\u001b[0m\u001b[0;34m(\u001b[0m\u001b[0mi\u001b[0m\u001b[0;34m)\u001b[0m\u001b[0;34m\u001b[0m\u001b[0m\n",
      "\u001b[0;31mNameError\u001b[0m: name 'xrange' is not defined"
     ]
    }
   ],
   "source": [
    "def printnums(a):\n",
    "    "
   ]
  },
  {
   "cell_type": "code",
   "execution_count": null,
   "metadata": {
    "collapsed": true
   },
   "outputs": [],
   "source": []
  }
 ],
 "metadata": {
  "kernelspec": {
   "display_name": "Python 3",
   "language": "python",
   "name": "python3"
  },
  "language_info": {
   "codemirror_mode": {
    "name": "ipython",
    "version": 3
   },
   "file_extension": ".py",
   "mimetype": "text/x-python",
   "name": "python",
   "nbconvert_exporter": "python",
   "pygments_lexer": "ipython3",
   "version": "3.4.3"
  }
 },
 "nbformat": 4,
 "nbformat_minor": 0
}
