{
 "cells": [
  {
   "cell_type": "code",
   "execution_count": 22,
   "metadata": {
    "collapsed": false
   },
   "outputs": [],
   "source": [
    "def factorial(n):\n",
    "    fact=0\n",
    "    print (fact)\n",
    "    if n==1:\n",
    "        return 1\n",
    "    fact= n*factorial(n-1)\n",
    "    print (fact)\n",
    "    return fact\n",
    "    "
   ]
  },
  {
   "cell_type": "code",
   "execution_count": 41,
   "metadata": {
    "collapsed": false
   },
   "outputs": [],
   "source": [
    "option = \"\"\n",
    "stringLeft = \"ABCDEFG\""
   ]
  },
  {
   "cell_type": "code",
   "execution_count": 57,
   "metadata": {
    "collapsed": false
   },
   "outputs": [],
   "source": [
    "def permute(string):\n",
    "    for char in stringLeft:\n",
    "        option + char\n",
    "        print( permute(stringLeft.replace(stringLeft[stringLeft.index(char)], \"\")))"
   ]
  },
  {
   "cell_type": "code",
   "execution_count": null,
   "metadata": {
    "collapsed": false
   },
   "outputs": [],
   "source": []
  },
  {
   "cell_type": "code",
   "execution_count": 56,
   "metadata": {
    "collapsed": false
   },
   "outputs": [
    {
     "data": {
      "text/plain": [
       "'abde'"
      ]
     },
     "execution_count": 56,
     "metadata": {},
     "output_type": "execute_result"
    }
   ],
   "source": [
    "a=\"abcde\"\n",
    "ind=a.index('c')\n",
    "a[: ind]+a[ind+1 :]"
   ]
  },
  {
   "cell_type": "code",
   "execution_count": 59,
   "metadata": {
    "collapsed": true
   },
   "outputs": [],
   "source": [
    "a=[]\n",
    "for i in range(1,11):\n",
    "     a.append(i)"
   ]
  },
  {
   "cell_type": "markdown",
   "metadata": {},
   "source": [
    "# List  Comprehensions"
   ]
  },
  {
   "cell_type": "code",
   "execution_count": 65,
   "metadata": {
    "collapsed": true
   },
   "outputs": [],
   "source": [
    "a=[(i,i+1) for i in range(1,11) if i%2==0]"
   ]
  },
  {
   "cell_type": "code",
   "execution_count": 68,
   "metadata": {
    "collapsed": false
   },
   "outputs": [],
   "source": [
    "a={1:2,2:3}"
   ]
  },
  {
   "cell_type": "code",
   "execution_count": 70,
   "metadata": {
    "collapsed": false
   },
   "outputs": [],
   "source": [
    "x=[(key,value) for key,value in a.items()  ]"
   ]
  },
  {
   "cell_type": "code",
   "execution_count": 72,
   "metadata": {
    "collapsed": false
   },
   "outputs": [
    {
     "data": {
      "text/plain": [
       "[(1, 2), (2, 3)]"
      ]
     },
     "execution_count": 72,
     "metadata": {},
     "output_type": "execute_result"
    }
   ],
   "source": [
    "x"
   ]
  },
  {
   "cell_type": "code",
   "execution_count": 78,
   "metadata": {
    "collapsed": false
   },
   "outputs": [],
   "source": [
    "a=[1,2,3]\n",
    "b=[4,5,6]\n",
    "x=dict(zip(a,b))"
   ]
  },
  {
   "cell_type": "code",
   "execution_count": 80,
   "metadata": {
    "collapsed": false
   },
   "outputs": [
    {
     "data": {
      "text/plain": [
       "{1: 4, 2: 5, 3: 6}"
      ]
     },
     "execution_count": 80,
     "metadata": {},
     "output_type": "execute_result"
    }
   ],
   "source": [
    "x"
   ]
  },
  {
   "cell_type": "code",
   "execution_count": 24,
   "metadata": {
    "collapsed": true
   },
   "outputs": [],
   "source": [
    "ps = \"\"\n",
    "bt = [0,0,0]\n",
    "string1 = \"abc\"\n",
    "storage = []"
   ]
  },
  {
   "cell_type": "code",
   "execution_count": 25,
   "metadata": {
    "collapsed": false,
    "scrolled": true
   },
   "outputs": [
    {
     "name": "stdout",
     "output_type": "stream",
     "text": [
      "['abc', 'acb', 'bac', 'bca', 'cab', 'cba']\n"
     ]
    }
   ],
   "source": [
    "def permute(string):\n",
    "    global ps\n",
    "    global bt\n",
    "    global string1\n",
    "    global storage\n",
    "    for char in (string):\n",
    "        if bt[string.index(char)] == 0:\n",
    "            ps = ps +char\n",
    "            bt[string.index(char)] = 1\n",
    "            permute(string)\n",
    "            ps = ps[:-1]\n",
    "            bt[string.index(char)] = 0\n",
    "    if len(ps) == len(string1):\n",
    "        storage.append(ps)\n",
    "permute(string1)\n",
    "\n",
    "print(storage)"
   ]
  },
  {
   "cell_type": "markdown",
   "metadata": {
    "collapsed": true
   },
   "source": [
    "#Fibonacci"
   ]
  },
  {
   "cell_type": "code",
   "execution_count": 32,
   "metadata": {
    "collapsed": false
   },
   "outputs": [
    {
     "name": "stdout",
     "output_type": "stream",
     "text": [
      "1\n",
      "0\n"
     ]
    }
   ],
   "source": [
    "f0 = 0\n",
    "f1 = 1\n",
    "print(f1)\n",
    "print(f2)"
   ]
  },
  {
   "cell_type": "code",
   "execution_count": 43,
   "metadata": {
    "collapsed": false,
    "scrolled": true
   },
   "outputs": [
    {
     "name": "stdout",
     "output_type": "stream",
     "text": [
      "1\n",
      "1\n",
      "2\n",
      "1\n",
      "3\n",
      "1\n",
      "1\n",
      "2\n",
      "5\n",
      "1\n",
      "1\n",
      "2\n",
      "1\n",
      "3\n",
      "8\n",
      "8\n"
     ]
    }
   ],
   "source": [
    "def fibonacci (num):\n",
    "    global f0\n",
    "    global f1\n",
    "    fib = 0\n",
    "    if (num == 0):\n",
    "        fib = f0\n",
    "    elif (num == 1):\n",
    "        fib = f1\n",
    "    elif (num == 2):\n",
    "        fib = f0 + f1\n",
    "    else:\n",
    "        fib = fibonacci(num-1) + fibonacci(num-2)\n",
    "    print (fib)\n",
    "    return fib\n",
    "print(fibonacci(6))"
   ]
  },
  {
   "cell_type": "markdown",
   "metadata": {},
   "source": [
    "# Exponent"
   ]
  },
  {
   "cell_type": "code",
   "execution_count": 46,
   "metadata": {
    "collapsed": false
   },
   "outputs": [
    {
     "name": "stdout",
     "output_type": "stream",
     "text": [
      "8\n"
     ]
    }
   ],
   "source": [
    "\n",
    "\n",
    "def exponent (base, power):\n",
    "    if power == 0:\n",
    "        return 1\n",
    "    elif power == 1:\n",
    "        return base\n",
    "    else:\n",
    "        return exponent(base, 1) * exponent(base, power - 1)\n",
    "    \n",
    "print(exponent(2,3))"
   ]
  },
  {
   "cell_type": "code",
   "execution_count": 49,
   "metadata": {
    "collapsed": false
   },
   "outputs": [
    {
     "name": "stdout",
     "output_type": "stream",
     "text": [
      "10.0\n"
     ]
    }
   ],
   "source": [
    "def sumDigits (num):\n",
    "    if num == num % 10:\n",
    "        return num\n",
    "    else:\n",
    "        return sumDigits((num - num%10)/10) + num%10\n",
    "print(sumDigits(12421))"
   ]
  },
  {
   "cell_type": "code",
   "execution_count": 51,
   "metadata": {
    "collapsed": false
   },
   "outputs": [
    {
     "name": "stdout",
     "output_type": "stream",
     "text": [
      "[(4, 6), (5, 5)]\n"
     ]
    }
   ],
   "source": [
    "sum1 = 10\n",
    "array1 = [1,4,3,6,5,2,93,14,234,]\n",
    "\n",
    "def findPairs (sum1, array1):\n",
    "    sum1\n",
    "    ansArray = []\n",
    "    for i in range (0, len(array1)):\n",
    "        for j in range (i + 1, len(array1)):\n",
    "            if array1[i] + array1[j] == sum1:\n",
    "                ansArray.append((array1[i], array1[j]))\n",
    "    return ansArray\n",
    "print(findPairs(sum1, array1))"
   ]
  },
  {
   "cell_type": "code",
   "execution_count": null,
   "metadata": {
    "collapsed": true
   },
   "outputs": [],
   "source": []
  }
 ],
 "metadata": {
  "kernelspec": {
   "display_name": "Python 3",
   "language": "python",
   "name": "python3"
  },
  "language_info": {
   "codemirror_mode": {
    "name": "ipython",
    "version": 3
   },
   "file_extension": ".py",
   "mimetype": "text/x-python",
   "name": "python",
   "nbconvert_exporter": "python",
   "pygments_lexer": "ipython3",
   "version": "3.4.3"
  }
 },
 "nbformat": 4,
 "nbformat_minor": 0
}
