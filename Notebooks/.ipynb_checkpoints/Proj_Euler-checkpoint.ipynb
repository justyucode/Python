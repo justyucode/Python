{
 "cells": [
  {
   "cell_type": "markdown",
   "metadata": {},
   "source": [
    "######ZIP DEMO"
   ]
  },
  {
   "cell_type": "code",
   "execution_count": 6,
   "metadata": {
    "collapsed": false
   },
   "outputs": [],
   "source": [
    "a=[\"Rogers\",\"Jeffrey\",\"Justin\",\"Tim\"]\n",
    "b=[1,2,3,4]\n",
    "dictionary=(dict(zip(a,b)))\n"
   ]
  },
  {
   "cell_type": "code",
   "execution_count": 9,
   "metadata": {
    "collapsed": false
   },
   "outputs": [],
   "source": [
    "input_array=[1,2,3,4,5]"
   ]
  },
  {
   "cell_type": "code",
   "execution_count": 10,
   "metadata": {
    "collapsed": false
   },
   "outputs": [],
   "source": [
    "squared_a=[x*x for x in input_array]"
   ]
  },
  {
   "cell_type": "code",
   "execution_count": 11,
   "metadata": {
    "collapsed": false
   },
   "outputs": [
    {
     "data": {
      "text/plain": [
       "[1, 4, 9, 16, 25]"
      ]
     },
     "execution_count": 11,
     "metadata": {},
     "output_type": "execute_result"
    }
   ],
   "source": [
    "squared_a"
   ]
  },
  {
   "cell_type": "code",
   "execution_count": 12,
   "metadata": {
    "collapsed": true
   },
   "outputs": [],
   "source": [
    "def squared(a):\n",
    "    return a*a"
   ]
  },
  {
   "cell_type": "code",
   "execution_count": 15,
   "metadata": {
    "collapsed": false
   },
   "outputs": [],
   "source": [
    "result=map(squared,input_array)"
   ]
  },
  {
   "cell_type": "code",
   "execution_count": 19,
   "metadata": {
    "collapsed": false
   },
   "outputs": [
    {
     "name": "stdout",
     "output_type": "stream",
     "text": [
      "1\n",
      "4\n",
      "9\n",
      "16\n",
      "25\n"
     ]
    }
   ],
   "source": [
    "for a in result:\n",
    "    print (a)"
   ]
  },
  {
   "cell_type": "code",
   "execution_count": 23,
   "metadata": {
    "collapsed": false
   },
   "outputs": [
    {
     "name": "stdout",
     "output_type": "stream",
     "text": [
      "(0, 1)\n",
      "(1, 2)\n",
      "(2, 3)\n",
      "(3, 4)\n",
      "(4, 5)\n"
     ]
    }
   ],
   "source": [
    "for a in enumerate(input_array):\n",
    "    print (a)"
   ]
  },
  {
   "cell_type": "code",
   "execution_count": 11,
   "metadata": {
    "collapsed": true
   },
   "outputs": [],
   "source": [
    "def less_than_1(a):\n",
    "    return a<0\n",
    "    "
   ]
  },
  {
   "cell_type": "code",
   "execution_count": 12,
   "metadata": {
    "collapsed": false
   },
   "outputs": [
    {
     "name": "stdout",
     "output_type": "stream",
     "text": [
      "-1\n",
      "-2\n",
      "-3\n"
     ]
    }
   ],
   "source": [
    "test_input=[-1,-2,-3,1,2,3]\n",
    "for a in filter(less_than_1,test_input):\n",
    "    print (a)"
   ]
  },
  {
   "cell_type": "code",
   "execution_count": 14,
   "metadata": {
    "collapsed": false
   },
   "outputs": [
    {
     "name": "stdout",
     "output_type": "stream",
     "text": [
      "-1\n",
      "-2\n",
      "-3\n"
     ]
    }
   ],
   "source": [
    "for a in filter(lambda x: x<0, test_input):\n",
    "    print(a)"
   ]
  },
  {
   "cell_type": "code",
   "execution_count": 45,
   "metadata": {
    "collapsed": false
   },
   "outputs": [
    {
     "name": "stdout",
     "output_type": "stream",
     "text": [
      "15\n"
     ]
    }
   ],
   "source": [
    "def detPow10(a):\n",
    "    pow0 = 0\n",
    "    copyA = a\n",
    "    while (copyA >=1):\n",
    "        copyA = copyA/10\n",
    "        pow0 = pow0 + 1\n",
    "    return (pow0 - 1)\n",
    "    \n",
    "print(detPow10(1212121214213412))"
   ]
  },
  {
   "cell_type": "code",
   "execution_count": 72,
   "metadata": {
    "collapsed": false
   },
   "outputs": [
    {
     "name": "stdout",
     "output_type": "stream",
     "text": [
      "2\n",
      "1\n",
      "1\n",
      "0.0\n",
      "0\n",
      "True\n"
     ]
    }
   ],
   "source": [
    "def detPal(a):\n",
    "    detPow0 = detPow10(a)\n",
    "    print (detPow0)\n",
    "    while (detPow0 >= 1):\n",
    "        firstdig = int(a/(10**(detPow0)))\n",
    "        lastdig = a % 10\n",
    "        print (firstdig)\n",
    "        print (lastdig)\n",
    "        if (firstdig != lastdig):\n",
    "            return False\n",
    "        a = a - firstdig*10**(detPow0) - lastdig\n",
    "        a = a/10\n",
    "        detPow0 -= 2\n",
    "        print (a)\n",
    "        print (detPow0)\n",
    "    return True\n",
    "\n",
    "print( detPal(101))"
   ]
  },
  {
   "cell_type": "code",
   "execution_count": 65,
   "metadata": {
    "collapsed": false
   },
   "outputs": [
    {
     "name": "stdout",
     "output_type": "stream",
     "text": [
      "0\n"
     ]
    }
   ],
   "source": [
    "detPow0=2\n",
    "lastdig=1\n",
    "firstdig=1\n",
    "a=101\n",
    "a = a - firstdig*10**(detPow0) - lastdig\n",
    "print (a)"
   ]
  },
  {
   "cell_type": "code",
   "execution_count": 54,
   "metadata": {
    "collapsed": false
   },
   "outputs": [
    {
     "data": {
      "text/plain": [
       "100"
      ]
     },
     "execution_count": 54,
     "metadata": {},
     "output_type": "execute_result"
    }
   ],
   "source": [
    "10**2"
   ]
  },
  {
   "cell_type": "markdown",
   "metadata": {
    "collapsed": true
   },
   "source": [
    "## problem 1"
   ]
  },
  {
   "cell_type": "code",
   "execution_count": 34,
   "metadata": {
    "collapsed": false
   },
   "outputs": [
    {
     "name": "stdout",
     "output_type": "stream",
     "text": [
      "233168\n"
     ]
    }
   ],
   "source": [
    "list1 = [i for i in range(1,1000) if (i%3 == 0 or i%5 == 0)]\n",
    "\n",
    "        \n",
    "print(sum(list1))"
   ]
  },
  {
   "cell_type": "markdown",
   "metadata": {},
   "source": [
    "## problem 3"
   ]
  },
  {
   "cell_type": "code",
   "execution_count": 32,
   "metadata": {
    "collapsed": false
   },
   "outputs": [],
   "source": [
    "def factor_set(num):\n",
    "    factors = set()\n",
    "    sqrt_val = int(num**.5)\n",
    "    if (num%2 == 1):\n",
    "        if (sqrt_val%2 == 0):\n",
    "            sqrt_val -= 1\n",
    "        for i in range (sqrt_val, 1, -2):\n",
    "            if (num% i == 0):\n",
    "                factors.add(i)\n",
    "    else:\n",
    "        for i in range (sqrt_val, 1, -1):\n",
    "            if (num% i == 0):\n",
    "                factors.add(i)\n",
    "    factors.add(1)\n",
    "    factors.add(num)\n",
    "    factors = sorted(factors)\n",
    "    return(factors)\n",
    "\n",
    "def is_prime(num):\n",
    "    sqrt_val = int(num**.5)\n",
    "    if (num%2 == 1):\n",
    "        if (sqrt_val%2 == 0):\n",
    "            sqrt_val -= 1\n",
    "        for i in range (sqrt_val, 1, -2):\n",
    "            if (num% i == 0):\n",
    "                return False\n",
    "    else:\n",
    "        for i in range (sqrt_val, 1, -1):\n",
    "            if (num% i == 0):\n",
    "                return False\n",
    "    return True\n",
    "\n",
    "def det_largest_prime_factor(num):\n",
    "    setF = [num for num in factor_set(num) if is_prime(num) == True]\n",
    "    return(max(setF))\n",
    "    "
   ]
  },
  {
   "cell_type": "code",
   "execution_count": 33,
   "metadata": {
    "collapsed": false
   },
   "outputs": [
    {
     "name": "stdout",
     "output_type": "stream",
     "text": [
      "[1, 71, 839, 1471, 6857, 59569, 104441, 486847, 600851475143]\n",
      "False\n",
      "6857\n"
     ]
    }
   ],
   "source": [
    "num = 600851475143\n",
    "print(factor_set(num))\n",
    "print(is_prime(25))\n",
    "print(det_largest_prime_factor(num))\n",
    "\n"
   ]
  },
  {
   "cell_type": "code",
   "execution_count": 4,
   "metadata": {
    "collapsed": false
   },
   "outputs": [
    {
     "name": "stdout",
     "output_type": "stream",
     "text": [
      "CPU times: user 4.08 s, sys: 4.89 s, total: 8.97 s\n",
      "Wall time: 9.22 s\n"
     ]
    },
    {
     "data": {
      "text/plain": [
       "<map at 0x106635828>"
      ]
     },
     "execution_count": 4,
     "metadata": {},
     "output_type": "execute_result"
    }
   ],
   "source": [
    "%time map(lambda x: x*x,[i for i in range(100000000)])"
   ]
  },
  {
   "cell_type": "code",
   "execution_count": 5,
   "metadata": {
    "collapsed": false
   },
   "outputs": [],
   "source": [
    "def square(num):\n",
    "    return (num**2)"
   ]
  },
  {
   "cell_type": "code",
   "execution_count": 6,
   "metadata": {
    "collapsed": false
   },
   "outputs": [
    {
     "name": "stdout",
     "output_type": "stream",
     "text": [
      "CPU times: user 4.16 s, sys: 7.35 s, total: 11.5 s\n",
      "Wall time: 11.7 s\n"
     ]
    },
    {
     "data": {
      "text/plain": [
       "<map at 0x1070b2588>"
      ]
     },
     "execution_count": 6,
     "metadata": {},
     "output_type": "execute_result"
    }
   ],
   "source": [
    "%time map(square,[i for i in range(100000000)])"
   ]
  },
  {
   "cell_type": "code",
   "execution_count": null,
   "metadata": {
    "collapsed": true
   },
   "outputs": [],
   "source": []
  }
 ],
 "metadata": {
  "celltoolbar": "Raw Cell Format",
  "kernelspec": {
   "display_name": "Python 3",
   "language": "python",
   "name": "python3"
  },
  "language_info": {
   "codemirror_mode": {
    "name": "ipython",
    "version": 3
   },
   "file_extension": ".py",
   "mimetype": "text/x-python",
   "name": "python",
   "nbconvert_exporter": "python",
   "pygments_lexer": "ipython3",
   "version": "3.4.3"
  }
 },
 "nbformat": 4,
 "nbformat_minor": 0
}
