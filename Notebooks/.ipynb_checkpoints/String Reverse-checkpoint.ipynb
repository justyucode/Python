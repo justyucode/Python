{
 "cells": [
  {
   "cell_type": "code",
   "execution_count": 4,
   "metadata": {
    "collapsed": false
   },
   "outputs": [
    {
     "name": "stdout",
     "output_type": "stream",
     "text": [
      "lkjihgfedcba\n"
     ]
    }
   ],
   "source": [
    "s = 'abcdefghijkl'\n",
    "length1 = len(s)\n",
    "stack1 = list()\n",
    "\n",
    "stack1 = [i for i in s]\n",
    "    \n",
    "s2=\"\"\n",
    "for i in range (0, length1):\n",
    "    s2 += stack1.pop()\n",
    "    \n",
    "print(s2)"
   ]
  },
  {
   "cell_type": "code",
   "execution_count": 8,
   "metadata": {
    "collapsed": false
   },
   "outputs": [
    {
     "name": "stdout",
     "output_type": "stream",
     "text": [
      "[1, 9, 8, 4, 2, 7, 6, 0, 0, 0, 0]\n"
     ]
    }
   ],
   "source": [
    "list1 = a=[1,9,8,4,0,0,2,7,0,6,0]\n",
    "num = list1.count(0)\n",
    "\n",
    "for i in range (0, num):\n",
    "    list1.append (list1.pop(list1.index(0)))\n",
    "    \n",
    "print(list1)"
   ]
  },
  {
   "cell_type": "code",
   "execution_count": 10,
   "metadata": {
    "collapsed": false
   },
   "outputs": [
    {
     "name": "stdout",
     "output_type": "stream",
     "text": [
      "[1, 9, 8, 4, 2, 7, 6, 0, 0, 0, 0]\n"
     ]
    }
   ],
   "source": [
    "list2 = [1,9,8,4,0,0,2,7,0,6,0]\n",
    "num = list1.count(0)\n",
    "for i in range (len(list2) - 1, -1, -1):\n",
    "    if list2[i] == 0:\n",
    "        list2 = list2[0:i] + list2[i+1:len(list2)] +[0]\n",
    "print(list2)\n",
    "    "
   ]
  },
  {
   "cell_type": "code",
   "execution_count": 15,
   "metadata": {
    "collapsed": false
   },
   "outputs": [
    {
     "name": "stdout",
     "output_type": "stream",
     "text": [
      "[1, 9, 8, 4, 2, 7, 6, 3, 5, 2, 4, 4, 2, 0, 0, 0, 0, 0, 0]\n"
     ]
    }
   ],
   "source": [
    "list2 =[1,9,8,4,0,0,2,7,0,6,0,3,5,2,4,0,0,4,2]\n",
    "size2 = len(list2)\n",
    "counter = 0\n",
    "counterwithoutzeroes = 0\n",
    "\n",
    "while(counter < size2):\n",
    "    val = list2[counter]\n",
    "    if(val != 0):\n",
    "        list2[counterwithoutzeroes] = val\n",
    "        counterwithoutzeroes += 1\n",
    "    counter +=1\n",
    "\n",
    "for i in range (counterwithoutzeroes, size2):\n",
    "    list2[i] = 0\n",
    "\n",
    "\n",
    "print(list2)\n",
    "    "
   ]
  },
  {
   "cell_type": "code",
   "execution_count": null,
   "metadata": {
    "collapsed": true
   },
   "outputs": [],
   "source": [
    "def squared (a)"
   ]
  }
 ],
 "metadata": {
  "kernelspec": {
   "display_name": "Python 3",
   "language": "python",
   "name": "python3"
  },
  "language_info": {
   "codemirror_mode": {
    "name": "ipython",
    "version": 3
   },
   "file_extension": ".py",
   "mimetype": "text/x-python",
   "name": "python",
   "nbconvert_exporter": "python",
   "pygments_lexer": "ipython3",
   "version": "3.4.3"
  }
 },
 "nbformat": 4,
 "nbformat_minor": 0
}
