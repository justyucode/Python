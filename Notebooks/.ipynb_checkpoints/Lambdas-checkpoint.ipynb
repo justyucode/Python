{
 "cells": [
  {
   "cell_type": "markdown",
   "metadata": {},
   "source": [
    "# Lambdas and List Comprehensions"
   ]
  },
  {
   "cell_type": "code",
   "execution_count": 2,
   "metadata": {
    "collapsed": false
   },
   "outputs": [
    {
     "name": "stdout",
     "output_type": "stream",
     "text": [
      "[3, 5, 8, 11]\n"
     ]
    }
   ],
   "source": [
    "a = [1,2,3,4]\n",
    "b = [2,3,5,7]\n",
    "c = [a[i] + b[i] for i in range (0, len(a))]\n",
    "print(c)"
   ]
  },
  {
   "cell_type": "code",
   "execution_count": 6,
   "metadata": {
    "collapsed": false
   },
   "outputs": [
    {
     "name": "stdout",
     "output_type": "stream",
     "text": [
      "[(1, 1), (1, 2), (1, 3), (1, 4), (1, 5), (1, 6), (2, 1), (2, 2), (2, 3), (2, 4), (2, 5), (2, 6), (3, 1), (3, 2), (3, 3), (3, 4), (3, 5), (3, 6), (4, 1), (4, 2), (4, 3), (4, 4), (4, 5), (4, 6), (5, 1), (5, 2), (5, 3), (5, 4), (5, 5), (5, 6), (6, 1), (6, 2), (6, 3), (6, 4), (6, 5), (6, 6)]\n"
     ]
    }
   ],
   "source": [
    "combo = [(i,j) for i in range (1, 7) for j in range (1,7)]\n",
    "print(combo)"
   ]
  },
  {
   "cell_type": "code",
   "execution_count": 5,
   "metadata": {
    "collapsed": false
   },
   "outputs": [
    {
     "name": "stdout",
     "output_type": "stream",
     "text": [
      "(3, 4, 5)\n",
      "(5, 12, 13)\n",
      "(6, 8, 10)\n",
      "(8, 15, 17)\n",
      "(9, 12, 15)\n",
      "(12, 16, 20)\n"
     ]
    }
   ],
   "source": [
    "def pyth(tri):\n",
    "    if (tri[0]**2 + tri[1]**2 == tri[2]**2):\n",
    "        return True\n",
    "    else:\n",
    "        return False\n",
    "\n",
    "triple = [(one, two, three) for one in range (1, 25) for two in range (one + 1, 25) for three in range (two + 1, 25)]\n",
    "\n",
    "ans = filter(pyth, triple)\n",
    "\n",
    "for thing in ans:\n",
    "    print(thing)"
   ]
  },
  {
   "cell_type": "markdown",
   "metadata": {
    "collapsed": true
   },
   "source": [
    "# zip"
   ]
  },
  {
   "cell_type": "code",
   "execution_count": 15,
   "metadata": {
    "collapsed": false
   },
   "outputs": [
    {
     "name": "stdout",
     "output_type": "stream",
     "text": [
      "[(1, 'a'), (2, 'b'), (3, 'c')]\n",
      "[(1, 'a'), (2, 'b'), (3, 'c')]\n"
     ]
    }
   ],
   "source": [
    "first = [1,2,3, 4]\n",
    "second = [\"a\",\"b\",\"c\"]\n",
    "third = [(first[i], second[i]) for i in range (0, min(len(first), len(second)))]\n",
    "print(third)\n",
    "\n",
    "print([things for things in zip(first, second)])"
   ]
  },
  {
   "cell_type": "code",
   "execution_count": 18,
   "metadata": {
    "collapsed": false
   },
   "outputs": [
    {
     "name": "stdout",
     "output_type": "stream",
     "text": [
      "[1, [2, [3, 4], 5], 6]\n"
     ]
    }
   ],
   "source": [
    "a = [1, [2, [3, 4], 5], 6]\n",
    "print(a)"
   ]
  },
  {
   "cell_type": "code",
   "execution_count": 21,
   "metadata": {
    "collapsed": false
   },
   "outputs": [
    {
     "data": {
      "text/plain": [
       "[1, 2, 3, 4, 5, 6]"
      ]
     },
     "execution_count": 21,
     "metadata": {},
     "output_type": "execute_result"
    }
   ],
   "source": [
    "def flat_list(l):\n",
    "    result = []\n",
    "    for c in l:\n",
    "        if (type(c) == list):\n",
    "            result = result + flat_list(c)\n",
    "        else:\n",
    "            result.append(c)\n",
    "    return result\n",
    "flat_list(a)"
   ]
  },
  {
   "cell_type": "markdown",
   "metadata": {
    "collapsed": true
   },
   "source": [
    "# list comp and filters"
   ]
  },
  {
   "cell_type": "code",
   "execution_count": 4,
   "metadata": {
    "collapsed": false
   },
   "outputs": [
    {
     "name": "stdout",
     "output_type": "stream",
     "text": [
      "[-10, -5, -4]\n"
     ]
    }
   ],
   "source": [
    "def func1(a):\n",
    "    return a<0\n",
    "\n",
    "list1 = [-5,4,2,-4,3,-10]\n",
    "\n",
    "def filter_sub (func1, list1):\n",
    "    c = [x for x in list1 if func1(x) == True]\n",
    "    c = sorted(c)\n",
    "    return c\n",
    "\n",
    "print(filter_sub(func1, list1))"
   ]
  },
  {
   "cell_type": "markdown",
   "metadata": {},
   "source": [
    "# celsius fahrenheit"
   ]
  },
  {
   "cell_type": "code",
   "execution_count": 12,
   "metadata": {
    "collapsed": false
   },
   "outputs": [
    {
     "name": "stdout",
     "output_type": "stream",
     "text": [
      "[('0F', '-17.8C'), ('5F', '-15.0C'), ('10F', '-12.2C'), ('15F', '-9.4C'), ('20F', '-6.7C'), ('25F', '-3.9C'), ('30F', '-1.1C'), ('35F', '1.7C'), ('40F', '4.4C'), ('45F', '7.2C'), ('50F', '10.0C'), ('55F', '12.8C'), ('60F', '15.6C'), ('65F', '18.3C'), ('70F', '21.1C'), ('75F', '23.9C'), ('80F', '26.7C'), ('85F', '29.4C'), ('90F', '32.2C'), ('95F', '35.0C'), ('100F', '37.8C')]\n"
     ]
    }
   ],
   "source": [
    "inputs = [(5*x) for x in range(0, 21)]\n",
    "b = [(str(a) + \"F\", str(round((a-32)*(5/9), 1)) + \"C\") for a in inputs]\n",
    "\n",
    "print(b)"
   ]
  },
  {
   "cell_type": "code",
   "execution_count": null,
   "metadata": {
    "collapsed": true
   },
   "outputs": [],
   "source": []
  }
 ],
 "metadata": {
  "kernelspec": {
   "display_name": "Python 3",
   "language": "python",
   "name": "python3"
  },
  "language_info": {
   "codemirror_mode": {
    "name": "ipython",
    "version": 3
   },
   "file_extension": ".py",
   "mimetype": "text/x-python",
   "name": "python",
   "nbconvert_exporter": "python",
   "pygments_lexer": "ipython3",
   "version": "3.4.3"
  }
 },
 "nbformat": 4,
 "nbformat_minor": 0
}
