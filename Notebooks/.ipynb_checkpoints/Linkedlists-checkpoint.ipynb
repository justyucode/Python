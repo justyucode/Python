{
 "cells": [
  {
   "cell_type": "code",
   "execution_count": 24,
   "metadata": {
    "collapsed": false
   },
   "outputs": [],
   "source": [
    "class node(object):\n",
    "    def __init__ (self, x):\n",
    "        self.data = x\n",
    "        self.next = None\n",
    "    def __eq__(self, object1):\n",
    "        if (object1 is None and self is None):\n",
    "            return True\n",
    "        elif ((object1 is None and self is not None) or (object1 is not None and self is None)):\n",
    "            return False\n",
    "        elif ((self.data == object1.data) and (self.next == object1.next)):\n",
    "            return True\n",
    "        else:\n",
    "            return False\n",
    "    "
   ]
  },
  {
   "cell_type": "code",
   "execution_count": 32,
   "metadata": {
    "collapsed": false
   },
   "outputs": [],
   "source": [
    "class linked_list(object):\n",
    "    def __init__(self):\n",
    "        self.headnode = None\n",
    "        self.length = 0\n",
    "    def __eq__(self, object1):\n",
    "        if ((self.headnode == object1.headnode) and (self.length == object1.length)):\n",
    "            return(True)\n",
    "        else:\n",
    "            return(False)\n",
    "    def print_all (self):\n",
    "        \n",
    "        if(self.headnode == None):\n",
    "            print(\"linked list is empty\")\n",
    "        else:\n",
    "            a = list()\n",
    "            jumpNode = self.headnode\n",
    "            a.append(jumpNode.data)\n",
    "            while(jumpNode.next != None):\n",
    "                jumpNode = jumpNode.next\n",
    "                a.append(jumpNode.data)\n",
    "            print(a)\n",
    "    '''def printgen (self):\n",
    "        \n",
    "        if(self.headnode == None):\n",
    "            print(\"linked list is empty\")\n",
    "        else:\n",
    "            jumpNode = self.headnode\n",
    "            yield jumpNode\n",
    "            while(jumpNode.next != None):\n",
    "                jumpNode = jumpNode.next\n",
    "                yield jumpNode  '''\n",
    "    def toList(self):\n",
    "        if(self.headnode == None):\n",
    "            print(\"linked list is empty\")\n",
    "        else:\n",
    "            a = list()\n",
    "            jumpNode = self.headnode\n",
    "            a.append(jumpNode.data)\n",
    "            while(jumpNode.next != None):\n",
    "                jumpNode = jumpNode.next\n",
    "                a.append(jumpNode.data)\n",
    "            return(a)\n",
    "    def append(self, node1):\n",
    "        if(self.headnode == None):\n",
    "            self.headnode = node1\n",
    "            self.length += 1\n",
    "        else:\n",
    "            jumpNode = self.headnode\n",
    "            while(jumpNode.next != None):\n",
    "                jumpNode = jumpNode.next\n",
    "            jumpNode.next = node1\n",
    "            self.length += 1\n",
    "        "
   ]
  },
  {
   "cell_type": "code",
   "execution_count": 7,
   "metadata": {
    "collapsed": false
   },
   "outputs": [
    {
     "name": "stdout",
     "output_type": "stream",
     "text": [
      "<__main__.node object at 0x10700dfd0>\n",
      "2\n",
      "<__main__.node object at 0x10700d320>\n",
      "2\n"
     ]
    }
   ],
   "source": [
    "a = linked_list()\n",
    "a.headnode = node(5)\n",
    "a.append(node(4))\n",
    "a.append(node(3))\n",
    "\n",
    "b = linked_list()\n",
    "b.headnode = node(5)\n",
    "b.append(node(4))\n",
    "b.append(node(3))\n",
    "\n",
    "print(a.headnode)\n",
    "print(a.length)\n",
    "print(b.headnode)\n",
    "print(b.length)\n"
   ]
  },
  {
   "cell_type": "code",
   "execution_count": 8,
   "metadata": {
    "collapsed": false
   },
   "outputs": [
    {
     "name": "stdout",
     "output_type": "stream",
     "text": [
      "True\n"
     ]
    }
   ],
   "source": [
    "print(a == b)"
   ]
  },
  {
   "cell_type": "code",
   "execution_count": 9,
   "metadata": {
    "collapsed": false,
    "scrolled": true
   },
   "outputs": [
    {
     "name": "stdout",
     "output_type": "stream",
     "text": [
      "[1, 3, 5, 7, 9, 8, 6, 4, 2]\n",
      "[1, 2, 3, 4, 5, 6, 7, 8, 9]\n"
     ]
    }
   ],
   "source": [
    "A = linked_list()\n",
    "A.headnode=(node(1))\n",
    "for x in range (2, 10):\n",
    "    A.append(node(x))\n",
    "\n",
    "aMod = A.toList()\n",
    "listEven = list()\n",
    "listOdd = list()\n",
    "\n",
    "counter = 0\n",
    "for ob in aMod:\n",
    "    if (counter%2 == 0):\n",
    "        listEven.append(ob)\n",
    "        counter += 1\n",
    "    else:\n",
    "        listOdd.append(ob)\n",
    "        counter+= 1\n",
    "combinelist = list()\n",
    "for el in listEven:\n",
    "    combinelist.append(el)\n",
    "for el in reversed(listOdd):\n",
    "    combinelist.append(el)\n",
    "    \n",
    "print(combinelist)\n",
    "\n",
    "print(aMod)\n"
   ]
  },
  {
   "cell_type": "code",
   "execution_count": 10,
   "metadata": {
    "collapsed": false
   },
   "outputs": [
    {
     "name": "stdout",
     "output_type": "stream",
     "text": [
      "[1, 3, 5, 7, 9, 8, 6, 4, 2]\n"
     ]
    }
   ],
   "source": [
    "ll = linked_list()\n",
    "ll.headnode=(node(1))\n",
    "for x in range (2, 10):\n",
    "    ll.append(node(x))\n",
    "currentNode = ll.headnode\n",
    "\n",
    "evenhead = None\n",
    "while((currentNode.next != None) and (currentNode.next.next != None)):\n",
    "    x  = currentNode.next\n",
    "    currentNode.next = currentNode.next.next\n",
    "    x.next = None\n",
    "    if(evenhead == None):\n",
    "        evenhead = x\n",
    "    else:\n",
    "        x.next = evenhead\n",
    "        evenhead = x\n",
    "    currentNode = currentNode.next\n",
    "currentNode.next = evenhead\n",
    "        \n",
    "print(ll.toList())"
   ]
  },
  {
   "cell_type": "code",
   "execution_count": 35,
   "metadata": {
    "collapsed": false
   },
   "outputs": [],
   "source": [
    "list1 = linked_list()\n",
    "list1.headnode = (node(1))\n",
    "for x in range (0, 9):\n",
    "    list1.append(node(x))\n",
    "    currentNode = list1.headnode\n"
   ]
  },
  {
   "cell_type": "code",
   "execution_count": 36,
   "metadata": {
    "collapsed": false
   },
   "outputs": [],
   "source": [
    "import pickle"
   ]
  },
  {
   "cell_type": "code",
   "execution_count": 43,
   "metadata": {
    "collapsed": false
   },
   "outputs": [],
   "source": [
    "pickle.dump(list1,open(\"dump.txt\", \"wb\"))"
   ]
  },
  {
   "cell_type": "code",
   "execution_count": 44,
   "metadata": {
    "collapsed": false
   },
   "outputs": [],
   "source": [
    "y = pickle.load(open(\"dump.txt\", \"rb\"))"
   ]
  },
  {
   "cell_type": "code",
   "execution_count": 47,
   "metadata": {
    "collapsed": false
   },
   "outputs": [
    {
     "name": "stdout",
     "output_type": "stream",
     "text": [
      "[1, 0, 1, 2, 3, 4, 5, 6, 7, 8]\n"
     ]
    }
   ],
   "source": [
    "print(y.toList())"
   ]
  },
  {
   "cell_type": "code",
   "execution_count": null,
   "metadata": {
    "collapsed": true
   },
   "outputs": [],
   "source": []
  },
  {
   "cell_type": "code",
   "execution_count": 35,
   "metadata": {
    "collapsed": false
   },
   "outputs": [
    {
     "data": {
      "text/plain": [
       "4"
      ]
     },
     "execution_count": 35,
     "metadata": {},
     "output_type": "execute_result"
    }
   ],
   "source": [
    "cn = next(x)\n",
    "cn.data"
   ]
  },
  {
   "cell_type": "code",
   "execution_count": 2,
   "metadata": {
    "collapsed": false
   },
   "outputs": [],
   "source": [
    "import itertools"
   ]
  },
  {
   "cell_type": "code",
   "execution_count": 15,
   "metadata": {
    "collapsed": false
   },
   "outputs": [
    {
     "data": {
      "text/plain": [
       "1"
      ]
     },
     "execution_count": 15,
     "metadata": {},
     "output_type": "execute_result"
    }
   ],
   "source": [
    "a = itertools.cycle([1,2,3,4])\n",
    "next(a)"
   ]
  },
  {
   "cell_type": "code",
   "execution_count": 13,
   "metadata": {
    "collapsed": false
   },
   "outputs": [
    {
     "data": {
      "text/plain": [
       "[('a', '1'), ('b', '2'), ('c', '*'), ('d', '*')]"
      ]
     },
     "execution_count": 13,
     "metadata": {},
     "output_type": "execute_result"
    }
   ],
   "source": [
    "b  = itertools.zip_longest('abcd', '12', fillvalue=  '*')\n",
    "list(b)"
   ]
  },
  {
   "cell_type": "code",
   "execution_count": 20,
   "metadata": {
    "collapsed": false
   },
   "outputs": [
    {
     "data": {
      "text/plain": [
       "[1, 3, 6, 10, 15, 21, 28, 36, 45]"
      ]
     },
     "execution_count": 20,
     "metadata": {},
     "output_type": "execute_result"
    }
   ],
   "source": [
    "list_a = [x for x in range(1, 10)]\n",
    "a = itertools.accumulate(list_a)\n",
    "list(a)\n"
   ]
  },
  {
   "cell_type": "code",
   "execution_count": 21,
   "metadata": {
    "collapsed": true
   },
   "outputs": [],
   "source": [
    "import operator"
   ]
  },
  {
   "cell_type": "code",
   "execution_count": 22,
   "metadata": {
    "collapsed": false
   },
   "outputs": [
    {
     "data": {
      "text/plain": [
       "[1, 2, 6, 24, 120, 720, 5040, 40320, 362880]"
      ]
     },
     "execution_count": 22,
     "metadata": {},
     "output_type": "execute_result"
    }
   ],
   "source": [
    "list(itertools.accumulate(list_a, operator.mul))"
   ]
  },
  {
   "cell_type": "code",
   "execution_count": null,
   "metadata": {
    "collapsed": true
   },
   "outputs": [],
   "source": []
  }
 ],
 "metadata": {
  "kernelspec": {
   "display_name": "Python 3",
   "language": "python",
   "name": "python3"
  },
  "language_info": {
   "codemirror_mode": {
    "name": "ipython",
    "version": 3
   },
   "file_extension": ".py",
   "mimetype": "text/x-python",
   "name": "python",
   "nbconvert_exporter": "python",
   "pygments_lexer": "ipython3",
   "version": "3.4.3"
  }
 },
 "nbformat": 4,
 "nbformat_minor": 0
}
