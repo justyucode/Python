{
 "cells": [
  {
   "cell_type": "code",
   "execution_count": 7,
   "metadata": {
    "collapsed": true
   },
   "outputs": [],
   "source": [
    "multString = '''<composer>Wolfgang Amadeus Mozart</composer> \n",
    "<author>Samuel Beckett</author>\n",
    "<city>London</city>'''\n"
   ]
  },
  {
   "cell_type": "code",
   "execution_count": 8,
   "metadata": {
    "collapsed": false
   },
   "outputs": [
    {
     "name": "stdout",
     "output_type": "stream",
     "text": [
      "<composer>Wolfgang Amadeus Mozart</composer> \n",
      "<author>Samuel Beckett</author>\n",
      "<city>London</city>\n"
     ]
    }
   ],
   "source": [
    "print (multString)"
   ]
  },
  {
   "cell_type": "code",
   "execution_count": 9,
   "metadata": {
    "collapsed": false
   },
   "outputs": [
    {
     "data": {
      "text/plain": [
       "['<composer>Wolfgang Amadeus Mozart</composer> ',\n",
       " '<author>Samuel Beckett</author>',\n",
       " '<city>London</city>']"
      ]
     },
     "execution_count": 9,
     "metadata": {},
     "output_type": "execute_result"
    }
   ],
   "source": [
    "multString.split(\"\\n\")"
   ]
  },
  {
   "cell_type": "code",
   "execution_count": 11,
   "metadata": {
    "collapsed": true
   },
   "outputs": [],
   "source": [
    "multiLineString = '''Allison Neu 555-8396\n",
    "Bob Newhall 555-4344\n",
    "C. Montgomery Burns 555-0001\n",
    "C. Montgomery Burns 555-0113\n",
    "Canine College 555-7201\n",
    "Canine Therapy Institute 555-2849\n",
    "Cathy Neu 555-2362\n",
    "City of New York Parking Violation Bureau 555-BOOT\n",
    "Dr. Julius Hibbert 555-3642\n",
    "Dr. Nick Riviera 555-NICK\n",
    "Earn Cash For Your Teeth 555-6312\n",
    "Family Therapy Center 555-HUGS\n",
    "Homer Jay Simpson (Plow King episode) 555-3223\n",
    "Homer Jay Simpson (work) 555-7334\n",
    "Jack Neu 555-7666\n",
    "Jeb Neu 555-5543\n",
    "Jennifer Neu 555-3652\n",
    "Ken Neu 555-8752\n",
    "Lionel Putz 555-5299\n",
    "MAD Magazine 555-8628\n",
    "Marital Street Hotline 555-1680\n",
    "Marvin Monroe 555-3700\n",
    "Marvin Monroe's radio therapy show 555-PAIN\n",
    "Moe Szyslak (phone number spells SMITHERS) 7648-4377\n",
    "Moe Szyslak 555-0000\n",
    "Moe's Tavern 555-1239\n",
    "Mr. Plow 555-3226\n",
    "NY Metro 555-5680\n",
    "Ned Flanders 555-8904\n",
    "New York Parking Violation Bureau 555-2668\n",
    "ORB Dr Nick's \"B\"argain Medical Services 1-800-DOCT\n",
    "Original Famous Ray's Pizza 555-PIZA\n",
    "Otto's \"How's my Driving\" 555-8821\n",
    "Plow King 555-4796\n",
    "Pretzel Wagon 555-3226\n",
    "Prof John Frink's Lab 555-5782\n",
    "Radio Psychaiatrist 555-7246\n",
    "Reverend Timothy Lovejoy 555-6542\n",
    "Richard Nash 555-9996\n",
    "Richard Newhall 555-9973\n",
    "Ruff-form Dog School 555-0078\n",
    "Santitarium for Dogs 555-9716\n",
    "Sleep-Eazy Motel 555-1000\n",
    "Sugar Truck 555-3872\n",
    "Susan Newhall 555-2362\n",
    "The Nuclear Powerplant 555-5246\n",
    "The Simpsons' residence 555-8707\n",
    "The Simpsons, 742 Evergreen Terrace 555-0113\n",
    "Toby Muntz 555-9972'''"
   ]
  },
  {
   "cell_type": "code",
   "execution_count": 1,
   "metadata": {
    "collapsed": true
   },
   "outputs": [],
   "source": [
    "import re"
   ]
  },
  {
   "cell_type": "code",
   "execution_count": 16,
   "metadata": {
    "collapsed": false
   },
   "outputs": [
    {
     "name": "stdout",
     "output_type": "stream",
     "text": [
      "['Jack Neu 555-7666', 'Jeb Neu 555-5543', 'Jennifer Neu 555-3652']\n"
     ]
    }
   ],
   "source": [
    "splitArray = multiLineString.split(\"\\n\")\n",
    "c = [x for x in splitArray if re.search(r'^(J\\w+) Neu (\\d{3}-\\d{4})', x)]\n",
    "print(c)"
   ]
  },
  {
   "cell_type": "markdown",
   "metadata": {
    "collapsed": true
   },
   "source": [
    "#Postal code"
   ]
  },
  {
   "cell_type": "code",
   "execution_count": 13,
   "metadata": {
    "collapsed": false
   },
   "outputs": [
    {
     "name": "stdout",
     "output_type": "stream",
     "text": [
      "<_sre.SRE_Match object; span=(0, 8), match='SW1A 0AA'>\n"
     ]
    }
   ],
   "source": [
    "a = 'SW1A 0AA'\n",
    "print(re.search(r'[A-Z]{1,2}(\\d|R)([A-Z]|\\d|){0,1} \\d[ABDHJLNPUWZ]{2}', a))"
   ]
  },
  {
   "cell_type": "code",
   "execution_count": null,
   "metadata": {
    "collapsed": true
   },
   "outputs": [],
   "source": []
  }
 ],
 "metadata": {
  "kernelspec": {
   "display_name": "Python 3",
   "language": "python",
   "name": "python3"
  },
  "language_info": {
   "codemirror_mode": {
    "name": "ipython",
    "version": 3
   },
   "file_extension": ".py",
   "mimetype": "text/x-python",
   "name": "python",
   "nbconvert_exporter": "python",
   "pygments_lexer": "ipython3",
   "version": "3.4.3"
  }
 },
 "nbformat": 4,
 "nbformat_minor": 0
}
