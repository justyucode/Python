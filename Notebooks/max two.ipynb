{
 "cells": [
  {
   "cell_type": "code",
   "execution_count": 3,
   "metadata": {
    "collapsed": false
   },
   "outputs": [
    {
     "name": "stdout",
     "output_type": "stream",
     "text": [
      "23\n",
      "7\n",
      "-3\n",
      "-33\n"
     ]
    }
   ],
   "source": [
    "a = [1,4,2,5,6,7,-3,23,-33,-2,-3,1,4,2]\n",
    "\n",
    "max2 = None\n",
    "max1 = None\n",
    "negmax1 = None\n",
    "negmax2 = None\n",
    "\n",
    "for i in a:\n",
    "    if (i >= 0):\n",
    "        if (max2 == None):\n",
    "            max2 = i\n",
    "        elif (max1 == None):\n",
    "            if (max2 >= i):\n",
    "                max1 = i\n",
    "            else:\n",
    "                max1 = max2\n",
    "                max2 = i\n",
    "        elif (max2 > i and max1 < i):\n",
    "            max1 = i\n",
    "        elif (max2 < i):\n",
    "            max1 = max2\n",
    "            max2 = i\n",
    "           \n",
    "    if (i <= 0):\n",
    "        if (negmax2 == None):\n",
    "            negmax2 = i\n",
    "        if (negmax1 == None):\n",
    "            negmax1 = i\n",
    "        if (negmax2 < i and negmax1 > i):\n",
    "            negmax1 = i\n",
    "        if (negmax2 > i):\n",
    "            negmax1 = negmax2  \n",
    "            negmax2 = i\n",
    "            \n",
    "print(max2)\n",
    "print(max1)\n",
    "print(negmax1)\n",
    "print(negmax2)"
   ]
  },
  {
   "cell_type": "markdown",
   "metadata": {
    "collapsed": true
   },
   "source": [
    "# Anagram"
   ]
  },
  {
   "cell_type": "code",
   "execution_count": 4,
   "metadata": {
    "collapsed": true
   },
   "outputs": [],
   "source": [
    "import itertools"
   ]
  },
  {
   "cell_type": "code",
   "execution_count": 14,
   "metadata": {
    "collapsed": false
   },
   "outputs": [
    {
     "data": {
      "text/plain": [
       "False"
      ]
     },
     "execution_count": 14,
     "metadata": {},
     "output_type": "execute_result"
    }
   ],
   "source": [
    "a = 'abcde'\n",
    "b = 'bdcea'\n",
    "c = 'aijifd'\n",
    "\n",
    "def anagram_checker(one, two):\n",
    "    if (len(one) != len(two)):\n",
    "        return False\n",
    "    if (a == b):\n",
    "        return True\n",
    "    if (tuple(b) in list(itertools.permutations(a))):\n",
    "        return True\n",
    "    else:\n",
    "        return False\n",
    "    \n",
    "anagram_checker(a,c)"
   ]
  },
  {
   "cell_type": "code",
   "execution_count": 18,
   "metadata": {
    "collapsed": false
   },
   "outputs": [
    {
     "data": {
      "text/plain": [
       "False"
      ]
     },
     "execution_count": 18,
     "metadata": {},
     "output_type": "execute_result"
    }
   ],
   "source": [
    "def anagram_checker2(one, two):\n",
    "    list1 = list(one)\n",
    "    list2 = list(two)\n",
    "    \n",
    "    for x in list1:\n",
    "        if (x in list2):\n",
    "            list2.pop(list2.index(x))\n",
    "        else: return False\n",
    "    return True;\n",
    "\n",
    "anagram_checker2(a,b)\n",
    "anagram_checker2(a,c)"
   ]
  },
  {
   "cell_type": "code",
   "execution_count": 1,
   "metadata": {
    "collapsed": false
   },
   "outputs": [
    {
     "name": "stdout",
     "output_type": "stream",
     "text": [
      "[1, 2, 3, 4]\n",
      "[5, 6, 7, 8]\n",
      "[9, 10, 11, 12]\n",
      "[13, 14, 15, 16]\n",
      "\n",
      "[5, 1, 2, 3]\n",
      "[9, 10, 6, 4]\n",
      "[13, 11, 7, 8]\n",
      "[14, 15, 16, 12]\n"
     ]
    }
   ],
   "source": [
    "matrixdouble = list(list())\n",
    "matrixdouble.append([1,2])\n",
    "matrixdouble.append([3,4])\n",
    "\n",
    "matrix1 = list(list())\n",
    "matrix1.append([1,2,3])\n",
    "matrix1.append([4,5,6])\n",
    "matrix1.append([7, 8, 9])\n",
    "\n",
    "matrix2 = list(list())\n",
    "matrix2.append([1,2,3, 4])\n",
    "matrix2.append([5,6, 7, 8])\n",
    "matrix2.append([9, 10, 11, 12])\n",
    "matrix2.append([13, 14, 15, 16])\n",
    "\n",
    "for a in matrix2:\n",
    "    print(a)\n",
    "print()\n",
    "\n",
    "def matrixRotate(matrix1):\n",
    "    \n",
    "    dim = len(matrix1)\n",
    "    half = int(dim/2)\n",
    "    \n",
    "    if (dim%2 == 0):\n",
    "        tl = matrix1[half - 1][half - 1]\n",
    "        tr = matrix1[half - 1][half]\n",
    "        bl = matrix1[half][half - 1]\n",
    "        br = matrix1[half][half]\n",
    "        matrix1[half - 1][half - 1] = bl\n",
    "        matrix1[half - 1][half] = tl\n",
    "        matrix1[half][half - 1] = br\n",
    "        matrix1[half][half] = tr\n",
    "    \n",
    "    for x in range (0, half - 1):\n",
    "        tempTop = None\n",
    "        tempRight = None\n",
    "        tempBottom = None\n",
    "        tempLeft = None\n",
    "        for i in range(x, dim - 1 - x):\n",
    "        #TOP\n",
    "            if (tempTop == None):\n",
    "                tempTop = matrix1[x][i+1]\n",
    "                matrix1[x][i+1] = matrix1[x][i]\n",
    "            else:\n",
    "                prevTop = tempTop\n",
    "                tempTop = matrix1[x][i+1]\n",
    "                matrix1[x][i+1] = prevTop \n",
    "        #RIGHT\n",
    "            if (tempRight == None):\n",
    "                tempRight = matrix1[i+1][dim - 1 - x]\n",
    "                matrix1[i + 1][dim - 1 - x] = matrix1[i][dim - 1 - x]\n",
    "            else:\n",
    "                prevRight = tempRight\n",
    "                tempRight = matrix1[i+1][dim - 1 - x]\n",
    "                matrix1[i+1][dim - 1 - x] = prevRight\n",
    "        #BOTTOM\n",
    "            if (tempBottom == None):\n",
    "                tempBottom = matrix1[dim - 1 - x][dim - 1 - x - 1]\n",
    "                matrix1[dim - 1 - x][dim - 1 - x - 1] = matrix1[dim - 1 - x][dim - 1 - x]\n",
    "            else:\n",
    "                prevBottom = tempBottom\n",
    "                tempBottom = matrix1[dim - 1 - x ][dim - 1 - i -1]\n",
    "                matrix1[dim - 1 - x][dim - 1-i - 1] = prevBottom   \n",
    "        #LEFT\n",
    "            if (tempLeft == None):\n",
    "                tempLeft = matrix1[dim - 1 - x - 1][x]\n",
    "                matrix1[dim - 1 - x - 1][x] = matrix1[dim - 1 - x][x]\n",
    "            else:\n",
    "                prevLeft = tempLeft\n",
    "                tempLeft = matrix1[dim - 1 - x - 1 - i][x]\n",
    "                matrix1[dim - 1 - x - 1 - i][x] = prevLeft\n",
    "        \n",
    "       \n",
    "        \n",
    "        \n",
    "                \n",
    "matrixRotate(matrix2)\n",
    "\n",
    "for a in matrix2:\n",
    "    print(a)"
   ]
  },
  {
   "cell_type": "code",
   "execution_count": null,
   "metadata": {
    "collapsed": true
   },
   "outputs": [],
   "source": []
  }
 ],
 "metadata": {
  "kernelspec": {
   "display_name": "Python 3",
   "language": "python",
   "name": "python3"
  },
  "language_info": {
   "codemirror_mode": {
    "name": "ipython",
    "version": 3
   },
   "file_extension": ".py",
   "mimetype": "text/x-python",
   "name": "python",
   "nbconvert_exporter": "python",
   "pygments_lexer": "ipython3",
   "version": "3.4.3"
  }
 },
 "nbformat": 4,
 "nbformat_minor": 0
}
